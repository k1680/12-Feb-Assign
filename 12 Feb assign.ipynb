{
 "cells": [
  {
   "cell_type": "code",
   "execution_count": 1,
   "id": "da2746cd-dac7-48f8-9f4c-1a53756eea23",
   "metadata": {},
   "outputs": [
    {
     "data": {
      "text/plain": [
       "'Q1. What is an Exception in python? Write the difference between Exceptions and Syntax errors.\\n    \\n    Ans: When in the runtime an error that occurs after passing the syntax test is called exception.\\n        For example, when we divide any number by zero then the ZeroDivisionError exception is raised, \\n        or when we import a module that does not exist then ImportError is raised.\\n        \\n        Syntax errors are caused by violations of the rules of the programming language, such as typos or incorrect punctuation, and occur during the compilation phase, \\n        preventing the program from executing. Exceptions, on the other hand,  occur during runtime due to unforeseen circumstances such as invalid user input or network failures. \\n        They can be handled by the program using try-catch blocks, allowing the program to continue executing rather than crashing. While syntax errors are structural, \\n        exceptions are related to runtime conditions.\\n\\n'"
      ]
     },
     "execution_count": 1,
     "metadata": {},
     "output_type": "execute_result"
    }
   ],
   "source": [
    "\"\"\"Q1. What is an Exception in python? Write the difference between Exceptions and Syntax errors.\n",
    "    \n",
    "    Ans: When in the runtime an error that occurs after passing the syntax test is called exception.\n",
    "        For example, when we divide any number by zero then the ZeroDivisionError exception is raised, \n",
    "        or when we import a module that does not exist then ImportError is raised.\n",
    "        \n",
    "        Syntax errors are caused by violations of the rules of the programming language, such as typos or incorrect punctuation, and occur during the compilation phase, \n",
    "        preventing the program from executing. Exceptions, on the other hand,  occur during runtime due to unforeseen circumstances such as invalid user input or network failures. \n",
    "        They can be handled by the program using try-catch blocks, allowing the program to continue executing rather than crashing. While syntax errors are structural, \n",
    "        exceptions are related to runtime conditions.\n",
    "\n",
    "\"\"\""
   ]
  },
  {
   "cell_type": "code",
   "execution_count": 2,
   "id": "bdb2d961-93a7-4d43-9a45-6e04f2f0b0bd",
   "metadata": {},
   "outputs": [
    {
     "data": {
      "text/plain": [
       "'Q2. What happens when an exception is not handled? Explain with an example.\\n\\n    Ans: When an exception is not handled in a program, it causes the program to crash and display an error message. This can result in data loss and unexpected behavior. \\n        For example, if a program is expecting input from a user and the user provides invalid data, the program may throw an exception. \\n        If the exception is not handled, the program will suddenly stop and any work done before the exception may be lost. \\n        Properly handling exceptions can prevent crashes and help the program run smoothly.\\n    \\n'"
      ]
     },
     "execution_count": 2,
     "metadata": {},
     "output_type": "execute_result"
    }
   ],
   "source": [
    "\"\"\"Q2. What happens when an exception is not handled? Explain with an example.\n",
    "\n",
    "    Ans: When an exception is not handled in a program, it causes the program to crash and display an error message. This can result in data loss and unexpected behavior. \n",
    "        For example, if a program is expecting input from a user and the user provides invalid data, the program may throw an exception. \n",
    "        If the exception is not handled, the program will suddenly stop and any work done before the exception may be lost. \n",
    "        Properly handling exceptions can prevent crashes and help the program run smoothly.\n",
    "    \n",
    "\"\"\""
   ]
  },
  {
   "cell_type": "code",
   "execution_count": 3,
   "id": "22366ee3-d1a1-4ecf-88b3-7be6eb658ca5",
   "metadata": {},
   "outputs": [
    {
     "data": {
      "text/plain": [
       "'Q3. Which Python statements are used to catch and handle exceptions? Explain with an example.\\n\\n    Ans: In Python, the try and except statements are used to catch and handle exceptions. The try block is used to enclose the code that may cause an exception, \\n        and the except block is used to handle the exception. If an exception is raised in the try block, the program will jump to the except block to handle the exception.\\n        Here is an example: Suppose we have a function that reads an input number from the user, but the user may enter a non-numeric value. \\n        We can use a try-except block to handle this exception and ask the user to enter a valid number again. If the user enters a valid number, \\n        the program continues to execute, but if they enter an invalid value again, the except block will handle the exception and prompt the user to enter a valid value.\\n'"
      ]
     },
     "execution_count": 3,
     "metadata": {},
     "output_type": "execute_result"
    }
   ],
   "source": [
    "\"\"\"Q3. Which Python statements are used to catch and handle exceptions? Explain with an example.\n",
    "\n",
    "    Ans: In Python, the try and except statements are used to catch and handle exceptions. The try block is used to enclose the code that may cause an exception, \n",
    "        and the except block is used to handle the exception. If an exception is raised in the try block, the program will jump to the except block to handle the exception.\n",
    "        Here is an example: Suppose we have a function that reads an input number from the user, but the user may enter a non-numeric value. \n",
    "        We can use a try-except block to handle this exception and ask the user to enter a valid number again. If the user enters a valid number, \n",
    "        the program continues to execute, but if they enter an invalid value again, the except block will handle the exception and prompt the user to enter a valid value.\n",
    "\"\"\""
   ]
  },
  {
   "cell_type": "code",
   "execution_count": 4,
   "id": "615f2c7d-1502-4807-9bf5-2254c95bdf9a",
   "metadata": {},
   "outputs": [
    {
     "data": {
      "text/plain": [
       "'Q4. Explain with an Example: \\n    \\na. try and else: \\n    In Python, the try statement is used to enclose code that may cause an exception, and the else statement is used to execute code if the try block doesn\\'t raise an exception.\\n    Example: If a file is present in the directory, the try block will execute the file reading operation, and if it is successful, \\n    the else block will be executed to print a success message. But if the file is not present, the except block will handle the exception and print an error message.\\n    \\nb. finally:\\n    In Python, the finally statement is used to execute code that must always be executed, regardless of whether an exception is thrown or not.\\n    Example: If a file is present in the directory, the try block will execute the file reading operation, and if it is successful, \\n    the finally block will be executed to close the file, ensuring it is not left open. But if an exception occurs during the try block, \\n    the except block will handle the exception, and the finally block will still be executed to close the file.\\n\\nc. raise:\\n    raise is a command to stop a program and signal an error. It allows handling the error in different ways. \\n    Example: raise ZeroDivisionError(\"Cannot divide by zero\") stops if dividing by zero.\\n\\n'"
      ]
     },
     "execution_count": 4,
     "metadata": {},
     "output_type": "execute_result"
    }
   ],
   "source": [
    "\"\"\"Q4. Explain with an Example: \n",
    "    \n",
    "a. try and else: \n",
    "    In Python, the try statement is used to enclose code that may cause an exception, and the else statement is used to execute code if the try block doesn't raise an exception.\n",
    "    Example: If a file is present in the directory, the try block will execute the file reading operation, and if it is successful, \n",
    "    the else block will be executed to print a success message. But if the file is not present, the except block will handle the exception and print an error message.\n",
    "    \n",
    "b. finally:\n",
    "    In Python, the finally statement is used to execute code that must always be executed, regardless of whether an exception is thrown or not.\n",
    "    Example: If a file is present in the directory, the try block will execute the file reading operation, and if it is successful, \n",
    "    the finally block will be executed to close the file, ensuring it is not left open. But if an exception occurs during the try block, \n",
    "    the except block will handle the exception, and the finally block will still be executed to close the file.\n",
    "\n",
    "c. raise:\n",
    "    raise is a command to stop a program and signal an error. It allows handling the error in different ways. \n",
    "    Example: raise ZeroDivisionError(\"Cannot divide by zero\") stops if dividing by zero.\n",
    "\n",
    "\"\"\""
   ]
  },
  {
   "cell_type": "code",
   "execution_count": 6,
   "id": "f5913892-6f90-49c6-8a59-d0e864e7f283",
   "metadata": {},
   "outputs": [
    {
     "name": "stdin",
     "output_type": "stream",
     "text": [
      "Enter your age:  200\n",
      "Enter age:  201\n"
     ]
    }
   ],
   "source": [
    "\"\"\"Q5. What are Custom Exceptions in python? why do we need Custom Exceptions? Explain with an example.\n",
    "\n",
    "Ans: Custom Exceptions are user-defined exceptions in Python that can be raised like built-in exceptions. We create them to handle specific errors that may occur in our code.\n",
    "    We need Custom Exceptions to make our code more readable and maintainable. By defining specific exceptions for different errors, \n",
    "    we can improve the clarity of our code and make it easier to debug.\n",
    "    \n",
    "\"\"\"\n",
    "# Example: \n",
    "\n",
    "import logging\n",
    "logging.basicConfig(filename = 'test.log', level = logging.INFO)\n",
    "\n",
    "age = int(input(\"Enter your age: \"))\n",
    "\n",
    "class validateage(Exception):\n",
    "    \n",
    "    def __init__(self, msg):\n",
    "        self.msg = msg\n",
    "        \n",
    "def validage(age):\n",
    "    if age < 0:\n",
    "        raise validateage(\"Entered age is negative\")\n",
    "    elif age > 200:\n",
    "        raise validateage(\"Entered age is very high\")\n",
    "    else:\n",
    "        logging.info(\"age is valid\")\n",
    "        \n",
    "try :\n",
    "    age = int(input(\"Enter age: \"))\n",
    "    validage(age)\n",
    "except validateage as e:\n",
    "    logging.error(e)"
   ]
  },
  {
   "cell_type": "code",
   "execution_count": 7,
   "id": "08c36e1f-3cd6-4279-a80b-4ae5083e9b9e",
   "metadata": {},
   "outputs": [
    {
     "name": "stdin",
     "output_type": "stream",
     "text": [
      "Enter your age:  45\n",
      "Enter age:  36\n"
     ]
    }
   ],
   "source": [
    "\"\"\"Q6. Create a custom exception class. Use this class to handle an exception.\"\"\"\n",
    "\n",
    "# Ans: \n",
    "import logging\n",
    "logging.basicConfig(filename = 'test.log', level = logging.INFO)\n",
    "\n",
    "age = int(input(\"Enter your age: \"))\n",
    "\n",
    "class validateage(Exception):\n",
    "    \n",
    "    def __init__(self, msg):\n",
    "        self.msg = msg\n",
    "        \n",
    "def validage(age):\n",
    "    if age < 0:\n",
    "        raise validateage(\"Entered age is negative\")\n",
    "    elif age > 200:\n",
    "        raise validateage(\"Entered age is very high\")\n",
    "    else:\n",
    "        logging.info(\"age is valid\")\n",
    "        \n",
    "try :\n",
    "    age = int(input(\"Enter age: \"))\n",
    "    validage(age)\n",
    "except validateage as e:\n",
    "    logging.error(e)"
   ]
  },
  {
   "cell_type": "code",
   "execution_count": null,
   "id": "d5f2269e-0c5f-48db-ac4d-6e66a0b72c5c",
   "metadata": {},
   "outputs": [],
   "source": []
  }
 ],
 "metadata": {
  "kernelspec": {
   "display_name": "Python 3 (ipykernel)",
   "language": "python",
   "name": "python3"
  },
  "language_info": {
   "codemirror_mode": {
    "name": "ipython",
    "version": 3
   },
   "file_extension": ".py",
   "mimetype": "text/x-python",
   "name": "python",
   "nbconvert_exporter": "python",
   "pygments_lexer": "ipython3",
   "version": "3.10.8"
  }
 },
 "nbformat": 4,
 "nbformat_minor": 5
}
